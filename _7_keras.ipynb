{
  "nbformat": 4,
  "nbformat_minor": 0,
  "metadata": {
    "colab": {
      "provenance": [],
      "authorship_tag": "ABX9TyOpaQBQu3X/A1B6r0vV7Hwe",
      "include_colab_link": true
    },
    "kernelspec": {
      "name": "python3",
      "display_name": "Python 3"
    },
    "language_info": {
      "name": "python"
    }
  },
  "cells": [
    {
      "cell_type": "markdown",
      "metadata": {
        "id": "view-in-github",
        "colab_type": "text"
      },
      "source": [
        "<a href=\"https://colab.research.google.com/github/MoLo404Ko/python_grad/blob/master/_7_keras.ipynb\" target=\"_parent\"><img src=\"https://colab.research.google.com/assets/colab-badge.svg\" alt=\"Open In Colab\"/></a>"
      ]
    },
    {
      "cell_type": "code",
      "execution_count": 13,
      "metadata": {
        "id": "Ki6MVk1ZIdtc"
      },
      "outputs": [],
      "source": [
        "#ЗАДАЧА: ОБУЧИТЬ МАШИНУ ПЕРЕВОДИТЬ ГРАДУСЫ ЦЕЛЬСИЯ В ГРАДУСЫ ФАРЕНГЕЙТА\n",
        "#ФОРМУЛА: F = 1,8 * C + 32\n",
        "import numpy as np\n",
        "import matplotlib.pyplot as plt\n",
        "from tensorflow import keras\n",
        "from tensorflow.keras.layers import Dense"
      ]
    },
    {
      "cell_type": "markdown",
      "source": [
        "Обучающая выборка и эталонная, модель нейронной сети"
      ],
      "metadata": {
        "id": "W5fERl-8JDIz"
      }
    },
    {
      "cell_type": "code",
      "source": [
        "c = np.array([-40, -10, 0, 8, 15, 22, 38])\n",
        "f = np.array([-40, 14, 32, 46, 59, 72, 100])\n",
        "\n",
        "#Модель SEQUENTIAL - модель последовательной многослойной нейронной сети,\n",
        "#здесь бы ее создаем\n",
        "model = keras.Sequential()\n",
        "\n",
        "#Теперь добавляем слой нейронов в модель, за это отвечает Dense\n",
        "#units - количество нейронов в слое\n",
        "#input_shape - количество входов в нейрон\n",
        "#activation - функция активации\n",
        "model.add(Dense(units=1, input_shape=(1,), activation=\"linear\"))\n",
        "\n",
        "# Модель необходимо скомпилировать, когда происходит компиляция, модель распре-\n",
        "# деляет случайные веса\n",
        "# loss - критерий качества (средняя квадратная ошибка)\n",
        "# Оптимизация алгоритма градиентного спуска Adam, (0.1) - шаг сходимости\n",
        "model.compile(loss=\"mean_squared_error\", optimizer=keras.optimizers.Adam(0.1))"
      ],
      "metadata": {
        "id": "yTZDcyoeJLrM"
      },
      "execution_count": 14,
      "outputs": []
    },
    {
      "cell_type": "markdown",
      "source": [
        "Обучение модели и график"
      ],
      "metadata": {
        "id": "0CdUbZsnOA5N"
      }
    },
    {
      "cell_type": "code",
      "source": [
        "#fit - метод обучения модели\n",
        "#c - наша обучающая выборка\n",
        "#f - эталонная выборка\n",
        "#epochs - количество иттераций обучения по выборкам\n",
        "#verbose - вывод служебной инорфмации в консоль\n",
        "history = model.fit(c,f, epochs=500, verbose=0)\n",
        "\n",
        "# history - словарь, из которого мы достаем критерии качества для каждой эпохи\n",
        "plt.plot(history.history[\"loss\"])\n",
        "plt.grid(True)\n",
        "plt.show()"
      ],
      "metadata": {
        "colab": {
          "base_uri": "https://localhost:8080/",
          "height": 430
        },
        "id": "YUltxXIzOC-9",
        "outputId": "463fed31-fdd1-4454-b91d-4c0da26c4f9c"
      },
      "execution_count": 15,
      "outputs": [
        {
          "output_type": "display_data",
          "data": {
            "text/plain": [
              "<Figure size 640x480 with 1 Axes>"
            ],
            "image/png": "[encoded data removed]"
          },
          "metadata": {}
        }
      ]
    },
    {
      "cell_type": "code",
      "source": [
        "# Делаем проверку работы нейронной сети\n",
        "print(model.predict([100,200,35, -1000, 200000]))\n",
        "\n",
        "# Выведем веса. По формуле должны получить ~ 1,8 и 32\n",
        "print(model.get_weights())"
      ],
      "metadata": {
        "colab": {
          "base_uri": "https://localhost:8080/"
        },
        "id": "nOkduBEbPlqt",
        "outputId": "e0e5f580-bc69-464a-8137-2b6970929828"
      },
      "execution_count": 17,
      "outputs": [
        {
          "output_type": "stream",
          "name": "stdout",
          "text": [
            "1/1 [==============================] - 0s 26ms/step\n",
            "[[ 2.1130649e+02]\n",
            " [ 3.9378497e+02]\n",
            " [ 9.2695457e+01]\n",
            " [-1.7959570e+03]\n",
            " [ 3.6498581e+05]]\n",
            "[array([[1.824785]], dtype=float32), array([28.827984], dtype=float32)]\n"
          ]
        }
      ]
    }
  ]
}